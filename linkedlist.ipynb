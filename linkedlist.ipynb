{
 "cells": [
  {
   "cell_type": "code",
   "execution_count": null,
   "id": "654fb72d-0a52-43fb-af6a-a9b921efda9f",
   "metadata": {},
   "outputs": [],
   "source": [
    "1. Define a double linked list"
   ]
  },
  {
   "cell_type": "code",
   "execution_count": 1,
   "id": "2480d463-3add-4b21-91c5-40bad5a894ba",
   "metadata": {
    "tags": []
   },
   "outputs": [],
   "source": [
    "class Node:\n",
    "    def __init__(self, data):\n",
    "        self.data = data\n",
    "        self.next = None\n",
    "        self.prev = None\n",
    "\n",
    "class DoublyLinkedList:\n",
    "    def __init__(self):\n",
    "        self.head = None\n",
    "        self.tail = None\n",
    "\n",
    "    def insert_at_beginning(self, data):\n",
    "        new_node = Node(data)\n",
    "        if self.head is None:\n",
    "            self.head = new_node\n",
    "            self.tail = new_node\n",
    "        else:\n",
    "            new_node.next = self.head\n",
    "            self.head.prev = new_node\n",
    "            self.head = new_node\n",
    "\n",
    "    def insert_at_end(self, data):\n",
    "        new_node = Node(data)\n",
    "        if self.head is None:\n",
    "            self.head = new_node\n",
    "            self.tail = new_node\n",
    "        else:\n",
    "            new_node.prev = self.tail\n",
    "            self.tail.next = new_node\n",
    "            self.tail = new_node\n",
    "\n"
   ]
  },
  {
   "cell_type": "code",
   "execution_count": null,
   "id": "bfd59206-1625-439d-ae39-2cec45b5b85f",
   "metadata": {},
   "outputs": [],
   "source": [
    "2.Write a function to reverse a linked list in-place"
   ]
  },
  {
   "cell_type": "code",
   "execution_count": 2,
   "id": "f2769143-b965-47c5-b368-33fa443b4f6c",
   "metadata": {
    "tags": []
   },
   "outputs": [
    {
     "name": "stdout",
     "output_type": "stream",
     "text": [
      "Original linked list:\n",
      "1 -> 2 -> 3 -> 4 -> 5 -> None\n",
      "\n",
      "Reversed linked list:\n",
      "5 -> 4 -> 3 -> 2 -> 1 -> None\n"
     ]
    }
   ],
   "source": [
    "class ListNode:\n",
    "    def __init__(self, val=0, next=None):\n",
    "        self.val = val\n",
    "        self.next = next\n",
    "\n",
    "def reverse_linked_list(head):\n",
    "    # Initialize pointers\n",
    "    prev_node = None\n",
    "    current_node = head\n",
    "\n",
    "    # Iterate through the list\n",
    "    while current_node is not None:\n",
    "        # Store the next node temporarily\n",
    "        next_node = current_node.next\n",
    "        # Reverse the link\n",
    "        current_node.next = prev_node\n",
    "        # Move pointers one step forward\n",
    "        prev_node = current_node\n",
    "        current_node = next_node\n",
    "\n",
    "    # After the loop, prev_node will point to the new head\n",
    "    return prev_node\n",
    "\n",
    "# Helper function to print the linked list\n",
    "def print_linked_list(head):\n",
    "    current = head\n",
    "    while current:\n",
    "        print(current.val, end=\" -> \")\n",
    "        current = current.next\n",
    "    print(\"None\")\n",
    "\n",
    "# Example usage:\n",
    "# Create a linked list: 1 -> 2 -> 3 -> 4 -> 5 -> None\n",
    "head = ListNode(1)\n",
    "head.next = ListNode(2)\n",
    "head.next.next = ListNode(3)\n",
    "head.next.next.next = ListNode(4)\n",
    "head.next.next.next.next = ListNode(5)\n",
    "\n",
    "print(\"Original linked list:\")\n",
    "print_linked_list(head)\n",
    "\n",
    "# Reverse the linked list\n",
    "head = reverse_linked_list(head)\n",
    "\n",
    "print(\"\\nReversed linked list:\")\n",
    "print_linked_list(head)\n"
   ]
  },
  {
   "cell_type": "code",
   "execution_count": null,
   "id": "a3bfec31-49b1-4b5c-9023-2fd26e94e3eb",
   "metadata": {},
   "outputs": [],
   "source": [
    "3\u0010 Detect cycle in a linked list"
   ]
  },
  {
   "cell_type": "code",
   "execution_count": 3,
   "id": "c0531b8a-ae8f-4f64-b384-fb9ad163bd00",
   "metadata": {
    "tags": []
   },
   "outputs": [
    {
     "name": "stdout",
     "output_type": "stream",
     "text": [
      "True\n",
      "False\n"
     ]
    }
   ],
   "source": [
    "class ListNode:\n",
    "    def __init__(self, val=0):\n",
    "        self.val = val\n",
    "        self.next = None\n",
    "\n",
    "def has_cycle(head):\n",
    "    if head is None:\n",
    "        return False\n",
    "\n",
    "    # Initialize two pointers\n",
    "    slow = head\n",
    "    fast = head.next\n",
    "\n",
    "    # Move pointers until they meet or reach the end of the list\n",
    "    while fast is not None and fast.next is not None:\n",
    "        if slow == fast:\n",
    "            return True\n",
    "        slow = slow.next\n",
    "        fast = fast.next.next\n",
    "\n",
    "    return False\n",
    "\n",
    "# Example usage:\n",
    "# Create a linked list with a cycle: 1 -> 2 -> 3 -> 4 -> 5 -> 2 (cycle)\n",
    "head = ListNode(1)\n",
    "head.next = ListNode(2)\n",
    "head.next.next = ListNode(3)\n",
    "head.next.next.next = ListNode(4)\n",
    "head.next.next.next.next = ListNode(5)\n",
    "# Create the cycle\n",
    "head.next.next.next.next.next = head.next\n",
    "\n",
    "# Check if the linked list has a cycle\n",
    "print(has_cycle(head))  # Output: True\n",
    "\n",
    "# Example usage with a linked list without a cycle: 1 -> 2 -> 3 -> 4 -> 5 -> None\n",
    "head = ListNode(1)\n",
    "head.next = ListNode(2)\n",
    "head.next.next = ListNode(3)\n",
    "head.next.next.next = ListNode(4)\n",
    "head.next.next.next.next = ListNode(5)\n",
    "\n",
    "# Check if the linked list has a cycle\n",
    "print(has_cycle(head))  # Output: False\n"
   ]
  },
  {
   "cell_type": "code",
   "execution_count": null,
   "id": "6c240124-838c-4335-84bc-9b679fb7ddb2",
   "metadata": {},
   "outputs": [],
   "source": [
    "4\u0010 Merge two sorted linked list into one\n",
    "1->3->5->6->null and 2->4->7->8->null should be merged to make\n",
    "\n",
    "1->2->3->4->5->6->7->8"
   ]
  },
  {
   "cell_type": "code",
   "execution_count": 5,
   "id": "41089a6f-b5e8-4159-94b4-366567a0cbab",
   "metadata": {
    "tags": []
   },
   "outputs": [
    {
     "name": "stdout",
     "output_type": "stream",
     "text": [
      "1 -> 2 -> 3 -> 4 -> 5 -> 6 -> 7 -> 8 -> None\n"
     ]
    }
   ],
   "source": [
    "class ListNode:\n",
    "    def __init__(self, val=0):\n",
    "        self.val = val\n",
    "        self.next = None\n",
    "\n",
    "def merge_two_lists(l1, l2):\n",
    "    dummy = ListNode()\n",
    "    current = dummy\n",
    "\n",
    "    # Traverse both lists and merge\n",
    "    while l1 and l2:\n",
    "        if l1.val < l2.val:\n",
    "            current.next = l1\n",
    "            l1 = l1.next\n",
    "        else:\n",
    "            current.next = l2\n",
    "            l2 = l2.next\n",
    "        current = current.next\n",
    "\n",
    "    # Append remaining elements if any\n",
    "    if l1:\n",
    "        current.next = l1\n",
    "    elif l2:\n",
    "        current.next = l2\n",
    "\n",
    "    return dummy.next\n",
    "\n",
    "# Function to print the linked list\n",
    "def print_linked_list(head):\n",
    "    current = head\n",
    "    while current:\n",
    "        print(current.val, end=\" -> \")\n",
    "        current = current.next\n",
    "    print(\"None\")\n",
    "\n",
    "# Example usage:\n",
    "# Create two sorted linked lists\n",
    "l1 = ListNode(1)\n",
    "l1.next = ListNode(3)\n",
    "l1.next.next = ListNode(5)\n",
    "l1.next.next.next = ListNode(6)\n",
    "\n",
    "l2 = ListNode(2)\n",
    "l2.next = ListNode(4)\n",
    "l2.next.next = ListNode(7)\n",
    "l2.next.next.next = ListNode(8)\n",
    "\n",
    "# Merge the two lists\n",
    "merged_list = merge_two_lists(l1, l2)\n",
    "\n",
    "# Print the merged list\n",
    "print_linked_list(merged_list)\n"
   ]
  },
  {
   "cell_type": "code",
   "execution_count": null,
   "id": "c768e7ef-d610-442d-9181-648e068eddee",
   "metadata": {},
   "outputs": [],
   "source": [
    "5\u0010 Write a function to remove nth node from the end in a linked list\n",
    "1->2->3->4->5->6, removing 2nd node from end will return 1->2->3->4->6"
   ]
  },
  {
   "cell_type": "code",
   "execution_count": 6,
   "id": "9acb65b0-d947-42c1-b132-5f2a5c30c4e0",
   "metadata": {
    "tags": []
   },
   "outputs": [
    {
     "name": "stdout",
     "output_type": "stream",
     "text": [
      "1 -> 2 -> 3 -> 4 -> 6 -> None\n"
     ]
    }
   ],
   "source": [
    "class ListNode:\n",
    "    def __init__(self, val=0):\n",
    "        self.val = val\n",
    "        self.next = None\n",
    "\n",
    "def remove_nth_from_end(head, n):\n",
    "    # Create a dummy node to handle edge cases\n",
    "    dummy = ListNode()\n",
    "    dummy.next = head\n",
    "    slow = fast = dummy\n",
    "\n",
    "    # Move the fast pointer ahead by n+1 nodes\n",
    "    for _ in range(n+1):\n",
    "        if fast is None:\n",
    "            return head  # Invalid input, list length < n+1\n",
    "        fast = fast.next\n",
    "\n",
    "    # Move both pointers until the fast pointer reaches the end\n",
    "    while fast:\n",
    "        slow = slow.next\n",
    "        fast = fast.next\n",
    "\n",
    "    # Remove the nth node from the end\n",
    "    slow.next = slow.next.next\n",
    "\n",
    "    return dummy.next\n",
    "\n",
    "# Function to print the linked list\n",
    "def print_linked_list(head):\n",
    "    current = head\n",
    "    while current:\n",
    "        print(current.val, end=\" -> \")\n",
    "        current = current.next\n",
    "    print(\"None\")\n",
    "\n",
    "# Example usage:\n",
    "# Create the linked list: 1 -> 2 -> 3 -> 4 -> 5 -> 6 -> None\n",
    "head = ListNode(1)\n",
    "head.next = ListNode(2)\n",
    "head.next.next = ListNode(3)\n",
    "head.next.next.next = ListNode(4)\n",
    "head.next.next.next.next = ListNode(5)\n",
    "head.next.next.next.next.next = ListNode(6)\n",
    "\n",
    "# Remove the second node from the end\n",
    "head = remove_nth_from_end(head, 2)\n",
    "\n",
    "# Print the modified linked list\n",
    "print_linked_list(head)\n"
   ]
  },
  {
   "cell_type": "code",
   "execution_count": null,
   "id": "79c47d07-a652-4bf7-a271-e8a863fe828a",
   "metadata": {},
   "outputs": [],
   "source": [
    "6.Remove duplicates from a sorted linked list\n",
    "1->2->3->3->4->4->4->5  should be changed to 1->2->3->4->"
   ]
  },
  {
   "cell_type": "code",
   "execution_count": 7,
   "id": "e27971f6-1879-48f4-915a-801acb5d75ac",
   "metadata": {
    "tags": []
   },
   "outputs": [
    {
     "name": "stdout",
     "output_type": "stream",
     "text": [
      "1 -> 2 -> 3 -> 4 -> 5 -> None\n"
     ]
    }
   ],
   "source": [
    "class ListNode:\n",
    "    def __init__(self, val=0):\n",
    "        self.val = val\n",
    "        self.next = None\n",
    "\n",
    "def remove_duplicates(head):\n",
    "    if not head:\n",
    "        return None\n",
    "\n",
    "    current = head\n",
    "\n",
    "    while current.next:\n",
    "        if current.val == current.next.val:\n",
    "            current.next = current.next.next\n",
    "        else:\n",
    "            current = current.next\n",
    "\n",
    "    return head\n",
    "\n",
    "# Function to print the linked list\n",
    "def print_linked_list(head):\n",
    "    current = head\n",
    "    while current:\n",
    "        print(current.val, end=\" -> \")\n",
    "        current = current.next\n",
    "    print(\"None\")\n",
    "\n",
    "# Example usage:\n",
    "# Create the linked list: 1 -> 2 -> 3 -> 3 -> 4 -> 4 -> 4 -> 5 -> None\n",
    "head = ListNode(1)\n",
    "head.next = ListNode(2)\n",
    "head.next.next = ListNode(3)\n",
    "head.next.next.next = ListNode(3)\n",
    "head.next.next.next.next = ListNode(4)\n",
    "head.next.next.next.next.next = ListNode(4)\n",
    "head.next.next.next.next.next.next = ListNode(4)\n",
    "head.next.next.next.next.next.next.next = ListNode(5)\n",
    "\n",
    "# Remove duplicates from the list\n",
    "head = remove_duplicates(head)\n",
    "\n",
    "# Print the modified linked list\n",
    "print_linked_list(head)\n"
   ]
  },
  {
   "cell_type": "code",
   "execution_count": null,
   "id": "78d61cbe-6213-4981-8752-23224080fff4",
   "metadata": {},
   "outputs": [],
   "source": [
    "7.Find the intersection of the two linked lists\n",
    "1->2->3->4->8->6->9  5->1->6->7  , intersection 1->6"
   ]
  },
  {
   "cell_type": "code",
   "execution_count": 10,
   "id": "f1f9e515-2ccf-4927-9b7b-51335f1f0702",
   "metadata": {
    "tags": []
   },
   "outputs": [
    {
     "name": "stdout",
     "output_type": "stream",
     "text": [
      "Intersection found at node with value: 2\n"
     ]
    }
   ],
   "source": [
    "class ListNode:\n",
    "    def __init__(self, val=0):\n",
    "        self.val = val\n",
    "        self.next = None\n",
    "\n",
    "def get_intersection(head1, head2):\n",
    "    if not head1 or not head2:\n",
    "        return None\n",
    "\n",
    "    # Pointers for both lists\n",
    "    ptr1 = head1\n",
    "    ptr2 = head2\n",
    "\n",
    "    # Traverse both lists until they meet or reach the end\n",
    "    while ptr1 != ptr2:\n",
    "        # Move ptr1 to the next node in list1\n",
    "        ptr1 = ptr1.next if ptr1 else head2\n",
    "        # Move ptr2 to the next node in list2\n",
    "        ptr2 = ptr2.next if ptr2 else head1\n",
    "\n",
    "    # If there's an intersection, ptr1 and ptr2 will meet at the intersection node\n",
    "    return ptr1\n",
    "\n",
    "# Function to print the value of the intersection node\n",
    "def print_intersection(intersection_node):\n",
    "    if intersection_node:\n",
    "        print(\"Intersection found at node with value:\", intersection_node.val)\n",
    "    else:\n",
    "        print(\"No intersection found.\")\n",
    "\n",
    "# Example usage:\n",
    "# Create the first linked list: 1 -> 2 -> 3 -> 4 -> 8 -> 6 -> 9 -> None\n",
    "head1 = ListNode(1)\n",
    "head1.next = ListNode(2)\n",
    "head1.next.next = ListNode(3)\n",
    "head1.next.next.next = ListNode(4)\n",
    "head1.next.next.next.next = ListNode(8)\n",
    "head1.next.next.next.next.next = ListNode(6)\n",
    "head1.next.next.next.next.next.next = ListNode(9)\n",
    "\n",
    "# Create the second linked list: 5 -> 1 -> 6 -> 7 -> None\n",
    "head2 = ListNode(5)\n",
    "head2.next = head1.next  # Link to the common node 1\n",
    "head2.next.next = head1.next.next.next.next  # Link to the common node 6\n",
    "head2.next.next.next = ListNode(7)\n",
    "\n",
    "# Find the intersection node\n",
    "intersection_node = get_intersection(head1, head2)\n",
    "\n",
    "# Print the value of the intersection node\n",
    "print_intersection(intersection_node)\n"
   ]
  },
  {
   "cell_type": "code",
   "execution_count": null,
   "id": "dc9b1dfd-1e6b-493c-8166-145e7b01e5b6",
   "metadata": {},
   "outputs": [],
   "source": [
    "8\u0006 Rotate a linked list by k positions to the right\n",
    " 1->2->3->4->8->6->9 , after rotating for 2 times Cecomes , 3->4->8->6->9->1->2"
   ]
  },
  {
   "cell_type": "code",
   "execution_count": 11,
   "id": "1f735356-3f07-4c62-a098-3383d3e89e54",
   "metadata": {
    "tags": []
   },
   "outputs": [
    {
     "name": "stdout",
     "output_type": "stream",
     "text": [
      "6 -> 9 -> 1 -> 2 -> 3 -> 4 -> 8 -> None\n"
     ]
    }
   ],
   "source": [
    "class ListNode:\n",
    "    def __init__(self, val=0):\n",
    "        self.val = val\n",
    "        self.next = None\n",
    "\n",
    "def rotate_right(head, k):\n",
    "    if not head or not head.next or k == 0:\n",
    "        return head\n",
    "\n",
    "    # Calculate the length of the linked list\n",
    "    length = 1\n",
    "    tail = head\n",
    "    while tail.next:\n",
    "        length += 1\n",
    "        tail = tail.next\n",
    "\n",
    "    # Adjust the value of k to be within the range of the list length\n",
    "    k = k % length\n",
    "\n",
    "    if k == 0:\n",
    "        return head  # No rotation needed\n",
    "\n",
    "    # Find the (length - k)th node\n",
    "    new_tail = head\n",
    "    for _ in range(length - k - 1):\n",
    "        new_tail = new_tail.next\n",
    "\n",
    "    # Set the next of the last node to point to the head of the original list\n",
    "    tail.next = head\n",
    "\n",
    "    # Update the head of the list to be the next node of the (length - k)th node\n",
    "    new_head = new_tail.next\n",
    "\n",
    "    # Set the next of the (length - k)th node to None to make it the new tail of the list\n",
    "    new_tail.next = None\n",
    "\n",
    "    return new_head\n",
    "\n",
    "# Function to print the linked list\n",
    "def print_linked_list(head):\n",
    "    current = head\n",
    "    while current:\n",
    "        print(current.val, end=\" -> \")\n",
    "        current = current.next\n",
    "    print(\"None\")\n",
    "\n",
    "# Example usage:\n",
    "# Create the linked list: 1 -> 2 -> 3 -> 4 -> 8 -> 6 -> 9 -> None\n",
    "head = ListNode(1)\n",
    "head.next = ListNode(2)\n",
    "head.next.next = ListNode(3)\n",
    "head.next.next.next = ListNode(4)\n",
    "head.next.next.next.next = ListNode(8)\n",
    "head.next.next.next.next.next = ListNode(6)\n",
    "head.next.next.next.next.next.next = ListNode(9)\n",
    "\n",
    "# Rotate the list to the right by 2 positions\n",
    "rotated_head = rotate_right(head, 2)\n",
    "\n",
    "# Print the rotated list\n",
    "print_linked_list(rotated_head)\n"
   ]
  },
  {
   "cell_type": "code",
   "execution_count": null,
   "id": "78a97f69-7fa3-4492-97ad-14227d372c87",
   "metadata": {},
   "outputs": [],
   "source": [
    "9\u0006 Add Two Numbers Represented by LinkedLists:\n",
    "    Given two non-empty linked lists representing two non-negative integers, where the digits are stored in\n",
    "reverse order, add the two numCers and return it as a linked list."
   ]
  },
  {
   "cell_type": "code",
   "execution_count": 12,
   "id": "1482d8c9-7cc8-4808-93d5-70fe7258d840",
   "metadata": {
    "tags": []
   },
   "outputs": [
    {
     "name": "stdout",
     "output_type": "stream",
     "text": [
      "7 -> 0 -> 8 -> None\n"
     ]
    }
   ],
   "source": [
    "class ListNode:\n",
    "    def __init__(self, val=0):\n",
    "        self.val = val\n",
    "        self.next = None\n",
    "\n",
    "def add_two_numbers(l1, l2):\n",
    "    dummy = ListNode()  # Dummy head for the result linked list\n",
    "    current = dummy\n",
    "    carry = 0  # Initialize carry to 0\n",
    "\n",
    "    # Traverse both lists until both lists and carry become None\n",
    "    while l1 or l2 or carry:\n",
    "        # Get the values of the current nodes (or 0 if None)\n",
    "        val1 = l1.val if l1 else 0\n",
    "        val2 = l2.val if l2 else 0\n",
    "\n",
    "        # Calculate the sum of current digits and carry\n",
    "        total = val1 + val2 + carry\n",
    "        carry = total // 10  # Update carry for the next iteration\n",
    "        digit = total % 10  # Calculate the digit to add to the result list\n",
    "\n",
    "        # Create a new node with the digit and append it to the result list\n",
    "        current.next = ListNode(digit)\n",
    "        current = current.next\n",
    "\n",
    "        # Move to the next nodes in both lists\n",
    "        if l1:\n",
    "            l1 = l1.next\n",
    "        if l2:\n",
    "            l2 = l2.next\n",
    "\n",
    "    # Return the result list (skip the dummy head)\n",
    "    return dummy.next\n",
    "\n",
    "# Function to print the linked list\n",
    "def print_linked_list(head):\n",
    "    current = head\n",
    "    while current:\n",
    "        print(current.val, end=\" -> \")\n",
    "        current = current.next\n",
    "    print(\"None\")\n",
    "\n",
    "# Example usage:\n",
    "# Create the first linked list: 2 -> 4 -> 3 -> None (represents the number 342)\n",
    "l1 = ListNode(2)\n",
    "l1.next = ListNode(4)\n",
    "l1.next.next = ListNode(3)\n",
    "\n",
    "# Create the second linked list: 5 -> 6 -> 4 -> None (represents the number 465)\n",
    "l2 = ListNode(5)\n",
    "l2.next = ListNode(6)\n",
    "l2.next.next = ListNode(4)\n",
    "\n",
    "# Add the two numbers represented by the linked lists\n",
    "result = add_two_numbers(l1, l2)\n",
    "\n",
    "# Print the result linked list\n",
    "print_linked_list(result)\n"
   ]
  },
  {
   "cell_type": "code",
   "execution_count": null,
   "id": "81ea0ae8-5d87-4706-b393-d70fbc8715b4",
   "metadata": {},
   "outputs": [],
   "source": [
    "10\u0006 Clone a Linked List with next and Random Pointer\n",
    "Given a linked list of size N where each node has two links: one pointer points to the next node and the\n",
    "second pointer points to any node in the list. The task is to create a clone of this linked list in O(N) time. \n",
    "\n",
    "\n",
    "Note: The pointer pointing to the next node is ‘next‘ pointer and the one pointing to an arCitrary node is\n",
    "called ‘arCit’ pointer as it can point to any arCitrary node in the linked lis"
   ]
  },
  {
   "cell_type": "code",
   "execution_count": 13,
   "id": "fe271fb3-8780-4257-a3a8-a14546008336",
   "metadata": {
    "tags": []
   },
   "outputs": [
    {
     "name": "stdout",
     "output_type": "stream",
     "text": [
      "Cloned linked list:\n",
      "Value: 7, Next: 14, Arbitrary: 21\n",
      "Value: 14, Next: 21, Arbitrary: 7\n",
      "Value: 21, Next: 28, Arbitrary: None\n",
      "Value: 28, Next: None, Arbitrary: 21\n"
     ]
    }
   ],
   "source": [
    "class ListNode:\n",
    "    def __init__(self, val=0, next=None, arbitrary=None):\n",
    "        self.val = val\n",
    "        self.next = next\n",
    "        self.arbitrary = arbitrary\n",
    "\n",
    "def clone_linked_list(head):\n",
    "    if not head:\n",
    "        return None\n",
    "\n",
    "    # Step 1: Duplicate each node and insert it after the original node\n",
    "    current = head\n",
    "    while current:\n",
    "        new_node = ListNode(current.val)\n",
    "        new_node.next = current.next\n",
    "        current.next = new_node\n",
    "        current = new_node.next\n",
    "\n",
    "    # Step 2: Set arbitrary pointers for the new nodes\n",
    "    current = head\n",
    "    while current:\n",
    "        if current.arbitrary:\n",
    "            current.next.arbitrary = current.arbitrary.next\n",
    "        current = current.next.next\n",
    "\n",
    "    # Step 3: Separate the original list from the cloned list\n",
    "    new_head = head.next\n",
    "    current = head\n",
    "    while current:\n",
    "        cloned_node = current.next\n",
    "        current.next = cloned_node.next\n",
    "        if cloned_node.next:\n",
    "            cloned_node.next = cloned_node.next.next\n",
    "        current = current.next\n",
    "\n",
    "    return new_head\n",
    "\n",
    "# Function to print the cloned linked list\n",
    "def print_cloned_linked_list(head):\n",
    "    current = head\n",
    "    while current:\n",
    "        print(\"Value:\", current.val, end=\", \")\n",
    "        print(\"Next:\", current.next.val if current.next else None, end=\", \")\n",
    "        print(\"Arbitrary:\", current.arbitrary.val if current.arbitrary else None)\n",
    "        current = current.next\n",
    "\n",
    "# Example usage:\n",
    "# Create the original linked list\n",
    "# 7 -> 14 -> 21 -> 28\n",
    "head = ListNode(7)\n",
    "head.next = ListNode(14)\n",
    "head.next.next = ListNode(21)\n",
    "head.next.next.next = ListNode(28)\n",
    "\n",
    "# Set arbitrary pointers\n",
    "head.arbitrary = head.next.next  # 7 -> 21\n",
    "head.next.arbitrary = head  # 14 -> 7\n",
    "head.next.next.arbitrary = head.next.next.next.next  # 21 -> None\n",
    "head.next.next.next.arbitrary = head.next.next  # 28 -> 21\n",
    "\n",
    "# Clone the linked list\n",
    "cloned_head = clone_linked_list(head)\n",
    "\n",
    "# Print the cloned linked list\n",
    "print(\"Cloned linked list:\")\n",
    "print_cloned_linked_list(cloned_head)\n"
   ]
  }
 ],
 "metadata": {
  "kernelspec": {
   "display_name": "Python 3 (ipykernel)",
   "language": "python",
   "name": "python3"
  },
  "language_info": {
   "codemirror_mode": {
    "name": "ipython",
    "version": 3
   },
   "file_extension": ".py",
   "mimetype": "text/x-python",
   "name": "python",
   "nbconvert_exporter": "python",
   "pygments_lexer": "ipython3",
   "version": "3.11.5"
  }
 },
 "nbformat": 4,
 "nbformat_minor": 5
}
